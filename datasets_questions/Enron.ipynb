{
 "cells": [
  {
   "cell_type": "code",
   "execution_count": 1,
   "metadata": {
    "collapsed": false
   },
   "outputs": [
    {
     "name": "stdout",
     "output_type": "stream",
     "text": [
      "2.7.11+ (default, Apr 17 2016, 14:00:29) \n",
      "[GCC 5.3.1 20160413]\n"
     ]
    }
   ],
   "source": [
    "# install kernel http://ipython.readthedocs.io/en/stable/install/kernel_install.html\n",
    "import sys\n",
    "print(sys.version)"
   ]
  },
  {
   "cell_type": "code",
   "execution_count": null,
   "metadata": {
    "collapsed": true
   },
   "outputs": [],
   "source": [
    "# Load data using given script\n",
    "execfile(\"./explore_enron_data.py\")"
   ]
  },
  {
   "cell_type": "code",
   "execution_count": null,
   "metadata": {
    "collapsed": true
   },
   "outputs": [],
   "source": [
    "keys = sorted(enron_data.keys())"
   ]
  },
  {
   "cell_type": "code",
   "execution_count": null,
   "metadata": {
    "collapsed": true
   },
   "outputs": [],
   "source": [
    "enron_data\n",
    "enron_data['METTS MARK']\n",
    "len(enron_data['METTS MARK'])"
   ]
  },
  {
   "cell_type": "code",
   "execution_count": null,
   "metadata": {
    "collapsed": true
   },
   "outputs": [],
   "source": [
    "s = 0\n",
    "for k in enron_data:\n",
    "    s += enron_data[k]['poi']\n",
    "s"
   ]
  },
  {
   "cell_type": "code",
   "execution_count": null,
   "metadata": {
    "collapsed": true
   },
   "outputs": [],
   "source": [
    "enron_data[\"PRENTICE JAMES\"]\n",
    "enron_data[\"COLWELL WESLEY\"]\n",
    "enron_data[\"SKILLING JEFFREY K\"]\n",
    "enron_data['FASTOW ANDREW S']"
   ]
  },
  {
   "cell_type": "code",
   "execution_count": null,
   "metadata": {
    "collapsed": true
   },
   "outputs": [],
   "source": [
    "s = 0\n",
    "for k in enron_data.keys():\n",
    "    s += enron_data[k]['salary'] != 'NaN'\n",
    "s\n",
    "\n",
    "s = 0\n",
    "for k in enron_data.keys():\n",
    "    s += enron_data[k]['email_address'] != 'NaN'\n",
    "s\n",
    "\n",
    "s = 0\n",
    "for k in enron_data.keys():\n",
    "    s += enron_data[k]['total_payments'] == 'NaN'\n",
    "s\n",
    "\n",
    "s/float(len(enron_data.keys()))\n",
    "\n",
    "s = 0\n",
    "for k in enron_data.keys():\n",
    "    s += (enron_data[k]['total_payments'] == 'NaN' and enron_data[k]['poi'])\n",
    "s"
   ]
  }
 ],
 "metadata": {
  "kernelspec": {
   "display_name": "Python 2",
   "language": "python",
   "name": "python2"
  },
  "language_info": {
   "codemirror_mode": {
    "name": "ipython",
    "version": 2
   },
   "file_extension": ".py",
   "mimetype": "text/x-python",
   "name": "python",
   "nbconvert_exporter": "python",
   "pygments_lexer": "ipython2",
   "version": "2.7.11+"
  }
 },
 "nbformat": 4,
 "nbformat_minor": 0
}
